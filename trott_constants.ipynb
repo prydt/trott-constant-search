{
 "cells": [
  {
   "cell_type": "markdown",
   "metadata": {},
   "source": [
    "# Finding Trott Constants\n",
    "\n",
    "> A Trott Constant is \"a real number whose decimal digits are equal to the terms of its continued fraction.\"\n",
    "\n",
    "So our first step is to create continued fraction calculation to an arbitrary number of decimal places (we can set how precise we wish to be). "
   ]
  },
  {
   "cell_type": "code",
   "execution_count": 2,
   "metadata": {},
   "outputs": [],
   "source": [
    "from mpmath import mp, mpf\n",
    "\n",
    "\n",
    "def count_digits(cf_list):\n",
    "    \"\"\"A Function to count amount of digits in a list of numbers\n",
    "    We will use this to figure out the amount of precision we want\"\"\"\n",
    "    total = 0\n",
    "    for num in cf_list:\n",
    "        while num > 0: # note: numbers are guaranteed to be positive\n",
    "            num = num // 10\n",
    "            total = total + 1\n",
    "    return total"
   ]
  },
  {
   "cell_type": "code",
   "execution_count": 3,
   "metadata": {},
   "outputs": [
    {
     "name": "stdout",
     "output_type": "stream",
     "text": [
      "7\n",
      "[100, 5, 7, 99]\n"
     ]
    }
   ],
   "source": [
    "a = [100, 5, 7, 99]\n",
    "print(count_digits(a))\n",
    "print(a)"
   ]
  },
  {
   "cell_type": "markdown",
   "metadata": {},
   "source": [
    "## Continued Fraction to Real Number conversion"
   ]
  },
  {
   "cell_type": "code",
   "execution_count": 4,
   "metadata": {},
   "outputs": [],
   "source": [
    "def cf_to_real(cf_list, precision):\n",
    "    with mp.workdps(precision):\n",
    "        curr = mpf(0) # 0 is previous term\n",
    "        for item in cf_list[::-1]: # loop through list backwards\n",
    "            curr = 1 / (item + curr)\n",
    "        return curr"
   ]
  },
  {
   "cell_type": "code",
   "execution_count": 5,
   "metadata": {},
   "outputs": [
    {
     "data": {
      "text/plain": [
       "mpf('0.32957041263580322')"
      ]
     },
     "execution_count": 5,
     "metadata": {},
     "output_type": "execute_result"
    }
   ],
   "source": [
    "cf = [3, 29, 5, 7]\n",
    "\n",
    "cf_to_real(cf, count_digits(cf) + 1)"
   ]
  },
  {
   "cell_type": "markdown",
   "metadata": {},
   "source": [
    "## Continued Fraction to Expected Trott Constant approximation"
   ]
  },
  {
   "cell_type": "code",
   "execution_count": 6,
   "metadata": {},
   "outputs": [],
   "source": [
    "def cf_to_trott_approx(cf_list):\n",
    "    with mp.workdps(count_digits(cf_list)+5):\n",
    "        return mpf(\"0.{}\".format(\"\".join(map(str,cf_list))))"
   ]
  },
  {
   "cell_type": "code",
   "execution_count": 7,
   "metadata": {},
   "outputs": [
    {
     "data": {
      "text/plain": [
       "mpf('0.32957000000169501')"
      ]
     },
     "execution_count": 7,
     "metadata": {},
     "output_type": "execute_result"
    }
   ],
   "source": [
    "cf_to_trott_approx(cf)"
   ]
  },
  {
   "cell_type": "markdown",
   "metadata": {},
   "source": [
    "## Check if CF form has equal real and expected values\n",
    "\n",
    "The best way to check if the two numbers are equal is through the `almosteq` method which takes in both values and an epsilon which the difference of the two values have to be lower than to be considered \"almost equal.\""
   ]
  },
  {
   "cell_type": "code",
   "execution_count": 44,
   "metadata": {},
   "outputs": [],
   "source": [
    "def valid_trott(cf_list):\n",
    "    with mp.workdps(count_digits(cf_list)+1):\n",
    "        dc = count_digits(cf_list)\n",
    "        return mp.almosteq(cf_to_real(cf_list, dc + 1), cf_to_trott_approx(cf_list), 9/(10**(dc+1)))"
   ]
  },
  {
   "cell_type": "code",
   "execution_count": 46,
   "metadata": {},
   "outputs": [
    {
     "name": "stdout",
     "output_type": "stream",
     "text": [
      "True\n",
      "False\n",
      "True\n"
     ]
    }
   ],
   "source": [
    "cf = [3,29,5,7]\n",
    "print(valid_trott(cf))\n",
    "\n",
    "cf = [3,29,5,8]\n",
    "print(valid_trott(cf))\n",
    "\n",
    "print(valid_trott([3]))"
   ]
  },
  {
   "cell_type": "markdown",
   "metadata": {},
   "source": [
    "## Testing for any possible Trott constant stems 3 items long\n",
    "\n",
    "This is the general structure of what we wish to do to check if there are n-item long Trott constants. However doing this many nested for-loops gets tedious and it is actually not possible to general to an nth degree so we must use a recursive technique known as backtracking."
   ]
  },
  {
   "cell_type": "code",
   "execution_count": 50,
   "metadata": {},
   "outputs": [
    {
     "name": "stdout",
     "output_type": "stream",
     "text": [
      "[3]\n",
      "[3, 29]\n",
      "[3, 29, 5]\n",
      "[3, 29, 6]\n",
      "[3, 29, 54]\n",
      "[3, 29, 55]\n",
      "[3, 29, 545]\n",
      "[3, 29, 546]\n",
      "[3, 29, 5454]\n",
      "[3, 29, 5455]\n",
      "[3, 29, 54545]\n",
      "[3, 29, 54546]\n",
      "[3, 29, 545454]\n",
      "[3, 29, 545455]\n",
      "[3, 30]\n",
      "[3, 330]\n",
      "[3, 3330]\n",
      "[3, 33330]\n",
      "[3, 333330]\n",
      "[10]\n"
     ]
    }
   ],
   "source": [
    "ITEM_MAX = 1000000\n",
    "\n",
    "# for-loop solution (NOT backtracking)\n",
    "for i in range(1, ITEM_MAX):\n",
    "    a = [i]\n",
    "    if valid_trott(a):\n",
    "        print(a)\n",
    "        for j in range(1, ITEM_MAX):\n",
    "            a = [i,j]\n",
    "            if valid_trott(a):\n",
    "                print(a)\n",
    "                for k in range(1, ITEM_MAX):\n",
    "                    a=[i,j,k]\n",
    "                    if valid_trott(a):\n",
    "                        print(a)"
   ]
  },
  {
   "cell_type": "markdown",
   "metadata": {},
   "source": [
    "## Backtracking Solution\n",
    "> backtracking is the best way to do a brute force for all permutations in larger cases.\n",
    "\n",
    "Here we will take what we do in each of the for-loops in the code above and call this function recursively. I will set more limiting restrictions on this version as the above code actually does take a bit of time to run just for 3 items of in the range of `[1, 1000000]`."
   ]
  },
  {
   "cell_type": "code",
   "execution_count": 74,
   "metadata": {},
   "outputs": [],
   "source": [
    "def trott_backtracking(current_cf, count, max_items, max_size, file=None):\n",
    "    if count < max_items:\n",
    "        valid = []\n",
    "        for a in range(1, max_size):\n",
    "            new_cf = current_cf + [a]\n",
    "            if valid_trott(new_cf):\n",
    "                valid.append(new_cf)\n",
    "            else:\n",
    "                # This branch simply doesn't work\n",
    "                print(\"INVALID: {}\".format(str(new_cf)),file=file)\n",
    "        if not valid:\n",
    "            # This branch is dead -- it started out valid but had nowhere to go.\n",
    "            print(\"DEAD: {}\".format(str(current_cf)),file=file)\n",
    "        else:\n",
    "            for v in valid:\n",
    "                # These branches are still alive\n",
    "                print(\"VALID: {}\".format(str(v)), file=file)\n",
    "                trott_backtracking(v, count+1, max_items, max_size, file=file)"
   ]
  },
  {
   "cell_type": "code",
   "execution_count": 76,
   "metadata": {},
   "outputs": [],
   "source": [
    "with open(\"output1.txt\", \"w+\") as out:\n",
    "    trott_backtracking([], 0, 1000, 50, out)"
   ]
  },
  {
   "cell_type": "markdown",
   "metadata": {},
   "source": [
    "Since the output was long I moved it to another file but it can be seen in `output1.txt`.\n",
    "\n",
    "Now I just need to run this for much larger possible values."
   ]
  },
  {
   "cell_type": "code",
   "execution_count": null,
   "metadata": {},
   "outputs": [],
   "source": [
    "with open(\"output2.txt\", \"w+\") as out:\n",
    "    trott_backtracking([], 0, 100, 1000, out)"
   ]
  },
  {
   "cell_type": "code",
   "execution_count": null,
   "metadata": {},
   "outputs": [],
   "source": []
  }
 ],
 "metadata": {
  "kernelspec": {
   "display_name": "venv",
   "language": "python",
   "name": "venv"
  },
  "language_info": {
   "codemirror_mode": {
    "name": "ipython",
    "version": 3
   },
   "file_extension": ".py",
   "mimetype": "text/x-python",
   "name": "python",
   "nbconvert_exporter": "python",
   "pygments_lexer": "ipython3",
   "version": "3.8.3"
  }
 },
 "nbformat": 4,
 "nbformat_minor": 4
}
