{
 "cells": [
  {
   "cell_type": "markdown",
   "metadata": {},
   "source": [
    "# Finding Trott Constants\n",
    "\n",
    "> A Trott Constant is \"a real number whose decimal digits are equal to the terms of its continued fraction.\"\n",
    "\n",
    "So our first step is to create continued fraction calculation to an arbitrary number of decimal places (we can set how precise we wish to be). "
   ]
  },
  {
   "cell_type": "code",
   "execution_count": 75,
   "metadata": {},
   "outputs": [],
   "source": [
    "from mpmath import mp, mpf\n",
    "\n",
    "\n",
    "def count_digits(cf_list):\n",
    "    \"\"\"A Function to count amount of digits in a list of numbers\n",
    "    We will use this to figure out the amount of precision we want\"\"\"\n",
    "    total = 0\n",
    "    for num in cf_list:\n",
    "        while num > 0: # note: numbers are guaranteed to be positive\n",
    "            num = num // 10\n",
    "            total = total + 1\n",
    "    return total"
   ]
  },
  {
   "cell_type": "code",
   "execution_count": 51,
   "metadata": {},
   "outputs": [
    {
     "name": "stdout",
     "output_type": "stream",
     "text": [
      "7\n",
      "[100, 5, 7, 99]\n"
     ]
    }
   ],
   "source": [
    "a = [100, 5, 7, 99]\n",
    "print(count_digits(a))\n",
    "print(a)"
   ]
  },
  {
   "cell_type": "markdown",
   "metadata": {},
   "source": [
    "### Continued Fraction to Real Number conversion"
   ]
  },
  {
   "cell_type": "code",
   "execution_count": 41,
   "metadata": {},
   "outputs": [],
   "source": [
    "def cf_to_real(cf_list, precision):\n",
    "    with mp.workdps(precision):\n",
    "        curr = mpf(0) # 0 is previous term\n",
    "        for item in cf_list[::-1]: # loop through list backwards\n",
    "            curr = 1 / (item + curr)\n",
    "        return curr"
   ]
  },
  {
   "cell_type": "code",
   "execution_count": 42,
   "metadata": {},
   "outputs": [
    {
     "data": {
      "text/plain": [
       "mpf('0.3295704')"
      ]
     },
     "execution_count": 42,
     "metadata": {},
     "output_type": "execute_result"
    }
   ],
   "source": [
    "cf = [3, 29, 5, 7]\n",
    "\n",
    "cf_to_real(cf, count_digits(cf) + 1)"
   ]
  },
  {
   "cell_type": "markdown",
   "metadata": {},
   "source": [
    "### Continued Fraction to Expected Trott Constant approximation"
   ]
  },
  {
   "cell_type": "code",
   "execution_count": 67,
   "metadata": {},
   "outputs": [],
   "source": [
    "def cf_to_trott_approx(cf_list):\n",
    "    with mp.workdps(count_digits(cf_list)+5):\n",
    "        return mpf(\"0.{}\".format(\"\".join(map(str,cf_list))))"
   ]
  },
  {
   "cell_type": "code",
   "execution_count": 70,
   "metadata": {},
   "outputs": [
    {
     "data": {
      "text/plain": [
       "mpf('0.3295700000016950070858001708984375')"
      ]
     },
     "execution_count": 70,
     "metadata": {},
     "output_type": "execute_result"
    }
   ],
   "source": [
    "cf_to_trott_approx(cf)"
   ]
  },
  {
   "cell_type": "markdown",
   "metadata": {},
   "source": [
    "Testing whether the equality check works"
   ]
  },
  {
   "cell_type": "code",
   "execution_count": 85,
   "metadata": {},
   "outputs": [
    {
     "name": "stdout",
     "output_type": "stream",
     "text": [
      "0.32957\n",
      "0.32957\n",
      "True\n"
     ]
    }
   ],
   "source": [
    "cf = [3,29,5,7]\n",
    "\n",
    "with mp.workdps(count_digits(cf)+1):\n",
    "    print(cf_to_real(cf, count_digits(cf)))\n",
    "    print(cf_to_trott_approx(cf))\n",
    "    print(mp.almosteq(cf_to_real(cf, count_digits(cf)), cf_to_trott_approx(cf)))"
   ]
  },
  {
   "cell_type": "code",
   "execution_count": null,
   "metadata": {},
   "outputs": [],
   "source": []
  }
 ],
 "metadata": {
  "kernelspec": {
   "display_name": "venv",
   "language": "python",
   "name": "venv"
  },
  "language_info": {
   "codemirror_mode": {
    "name": "ipython",
    "version": 3
   },
   "file_extension": ".py",
   "mimetype": "text/x-python",
   "name": "python",
   "nbconvert_exporter": "python",
   "pygments_lexer": "ipython3",
   "version": "3.8.3"
  }
 },
 "nbformat": 4,
 "nbformat_minor": 4
}
