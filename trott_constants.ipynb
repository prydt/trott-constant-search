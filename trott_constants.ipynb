{
 "cells": [
  {
   "cell_type": "markdown",
   "metadata": {},
   "source": [
    "# Finding Trott Constants\n",
    "\n",
    "So I recently had the pleasure of joining a research group in the field of measure theory and an interesting problem was brought up. The problem was whether Trott constants existed if you used to typical notion of a continued fraction.\n",
    "\n",
    "> A Trott Constant is \"a real number whose decimal digits are equal to the terms of its continued fraction.\"\n",
    "\n",
    "> A continued fraction (CF) is a number in the form `[a; x, y, z ...]` which equals `a + 1/(x+1/(y+1/(z...)))`. \n",
    "\n",
    "\n",
    "But Trott in his work used numbers from 0-9 for each term (x,y,z...) in the continued fraction which is not typical. Usually you would only use positive integers from 1 onward.\n",
    "\n",
    "The goal of this work is to try and find as many \"pre-trott\" constants as possible.\n",
    "\n",
    "A pre-trott constant is a continued fraction and decimal pair whose values match in decimal for all the digits in the terms of the continued fraction.\n",
    "\n",
    "Ex: `[0; 3, 29, 5, 7]` which matches `0.32957039824396362`. It matches the first 5 digits which is all it needs to match for since that is the number of digits in the CF.\n",
    "\n",
    "So our first step is to construct a function that takes a continued fraction and computes it as a real number with a given amount or precision (decimal places accurate).\n",
    "\n",
    "We are using `mpmath` for arbitrary precision floating point arithmetic. Essentially, we can set the precision of the computation to be a certan number of decimal places but we shall set it at the minimum necessary as the larger the precision, the longer the computation.\n",
    "\n",
    "Additionally, note that our CF representation will just be a simple list of numbers. We will not store the zero as the beginning number does not really matter in either representation."
   ]
  },
  {
   "cell_type": "markdown",
   "metadata": {},
   "source": [
    "### Count Digits\n",
    "\n",
    "This is used to count the number of digits in our CF representation which will allow us to figure out how many decimal places to check for equivalence."
   ]
  },
  {
   "cell_type": "code",
   "execution_count": 27,
   "metadata": {},
   "outputs": [],
   "source": [
    "from mpmath import mp, mpf\n",
    "\n",
    "\n",
    "def count_digits(cf_list):\n",
    "    \"\"\"A Function to count amount of digits in a list of numbers\n",
    "    We will use this to figure out the amount of precision we want\"\"\"\n",
    "    total = 0\n",
    "    for num in cf_list:\n",
    "        while num > 0: # note: numbers are guaranteed to be positive\n",
    "            num = num // 10\n",
    "            total = total + 1\n",
    "    return total"
   ]
  },
  {
   "cell_type": "markdown",
   "metadata": {},
   "source": [
    "We shall test the our count digits function."
   ]
  },
  {
   "cell_type": "code",
   "execution_count": 28,
   "metadata": {},
   "outputs": [
    {
     "name": "stdout",
     "output_type": "stream",
     "text": [
      "7\n",
      "[100, 5, 7, 99]\n"
     ]
    }
   ],
   "source": [
    "a = [100, 5, 7, 99]\n",
    "print(count_digits(a))\n",
    "print(a)"
   ]
  },
  {
   "cell_type": "markdown",
   "metadata": {},
   "source": [
    "## Continued Fraction to Real Number conversion\n",
    "\n",
    "Here we perform the conversion from CF to real number via repeated divisions."
   ]
  },
  {
   "cell_type": "code",
   "execution_count": 35,
   "metadata": {},
   "outputs": [],
   "source": [
    "def cf_to_real(cf_list, precision):\n",
    "    with mp.extradps(precision+1):\n",
    "        curr = 0 # 0 is previous term\n",
    "        for item in cf_list[::-1]: # loop through list backwards\n",
    "            curr = 1 / mpf(item + curr)\n",
    "        return curr"
   ]
  },
  {
   "cell_type": "code",
   "execution_count": 36,
   "metadata": {},
   "outputs": [
    {
     "data": {
      "text/plain": [
       "mpf('0.32957039824396362')"
      ]
     },
     "execution_count": 36,
     "metadata": {},
     "output_type": "execute_result"
    }
   ],
   "source": [
    "cf = [3, 29, 5, 7]\n",
    "\n",
    "cf_to_real(cf, count_digits(cf) + 1)"
   ]
  },
  {
   "cell_type": "markdown",
   "metadata": {},
   "source": [
    "## Continued Fraction to Expected Trott Constant approximation\n",
    "\n",
    "Here we are calculating what the real number needs to equal if this CF is a trott constant approximate."
   ]
  },
  {
   "cell_type": "code",
   "execution_count": 37,
   "metadata": {},
   "outputs": [],
   "source": [
    "def cf_to_trott_approx(cf_list):\n",
    "    return \"0.{}\".format(\"\".join(map(str,cf_list)))"
   ]
  },
  {
   "cell_type": "code",
   "execution_count": 38,
   "metadata": {},
   "outputs": [
    {
     "data": {
      "text/plain": [
       "'0.32957'"
      ]
     },
     "execution_count": 38,
     "metadata": {},
     "output_type": "execute_result"
    }
   ],
   "source": [
    "cf = [3, 29, 5, 7]\n",
    "cf_to_trott_approx(cf)"
   ]
  },
  {
   "cell_type": "markdown",
   "metadata": {},
   "source": [
    "## Check if CF form has equal real and expected values\n",
    "\n",
    "Here we are checking if the real number representation of the CF matches the digits in the terms of the CF."
   ]
  },
  {
   "cell_type": "code",
   "execution_count": 39,
   "metadata": {},
   "outputs": [],
   "source": [
    "def valid_trott(cf_list):\n",
    "    precision = count_digits(cf_list) + 2\n",
    "    with mp.extradps(precision+1):\n",
    "        real = str(cf_to_real(cf_list, precision))[:precision]\n",
    "        want = cf_to_trott_approx(cf_list)\n",
    "        # print(\"{} {}\".format(real, want)) # for debugging\n",
    "        return real == want"
   ]
  },
  {
   "cell_type": "markdown",
   "metadata": {},
   "source": [
    "Testing the `valid_trott` function."
   ]
  },
  {
   "cell_type": "code",
   "execution_count": 40,
   "metadata": {},
   "outputs": [
    {
     "name": "stdout",
     "output_type": "stream",
     "text": [
      "True\n",
      "False\n",
      "True\n",
      "False\n",
      "True\n",
      "True\n",
      "True\n",
      "True\n"
     ]
    }
   ],
   "source": [
    "print(valid_trott([3,29,5,7])) # true\n",
    "print(valid_trott([3,29,5,8])) # false\n",
    "print(valid_trott([3])) # true\n",
    "print(valid_trott([3,30])) # false\n",
    "print(valid_trott([3,29])) # true\n",
    "print(valid_trott([3, 333329])) # true\n",
    "print(valid_trott([3, 3333329])) # true\n",
    "print(valid_trott([3, 33333329])) # true"
   ]
  },
  {
   "cell_type": "markdown",
   "metadata": {},
   "source": [
    "## Testing for any possible Pre Trott constant 3 terms long\n",
    "\n",
    "This is the general structure of what we wish to do to check if there are n-item long valid trott constants. However doing this many nested for-loops gets tedious and it is actually not possible to general to an nth degree so we must use a recursive technique known as backtracking."
   ]
  },
  {
   "cell_type": "code",
   "execution_count": 39,
   "metadata": {},
   "outputs": [
    {
     "name": "stdout",
     "output_type": "stream",
     "text": [
      "[3]\n",
      "[3, 29]\n",
      "[3, 29, 5]\n",
      "[3, 29, 54]\n",
      "[3, 29, 545]\n",
      "[3, 29, 5454]\n",
      "[3, 29, 54545]\n",
      "[3, 29, 545454]\n",
      "[3, 329]\n",
      "[3, 329, 9]\n",
      "[3, 329, 95]\n",
      "[3, 329, 959]\n",
      "[3, 329, 9595]\n",
      "[3, 329, 95951]\n",
      "[3, 329, 959514]\n",
      "[3, 3329]\n",
      "[3, 3329, 9]\n",
      "[3, 3329, 99]\n",
      "[3, 3329, 995]\n",
      "[3, 3329, 9959]\n",
      "[3, 3329, 99599]\n",
      "[3, 3329, 995995]\n",
      "[3, 33329]\n",
      "[3, 33329, 9]\n",
      "[3, 33329, 99]\n",
      "[3, 33329, 999]\n",
      "[3, 33329, 9995]\n",
      "[3, 33329, 99959]\n",
      "[3, 33329, 999599]\n",
      "[3, 333329]\n",
      "[3, 333329, 9]\n",
      "[3, 333329, 99]\n",
      "[3, 333329, 999]\n",
      "[3, 333329, 9999]\n",
      "[3, 333329, 99996]\n",
      "[3, 333329, 999960]\n"
     ]
    }
   ],
   "source": [
    "ITEM_MAX = 1000000\n",
    "\n",
    "# for-loop solution (NOT backtracking)\n",
    "for i in range(1, ITEM_MAX):\n",
    "    a = [i]\n",
    "    if valid_trott(a):\n",
    "        print(a)\n",
    "        for j in range(1, ITEM_MAX):\n",
    "            a = [i,j]\n",
    "            if valid_trott(a):\n",
    "                print(a)\n",
    "                for k in range(1, ITEM_MAX):\n",
    "                    a=[i,j,k]\n",
    "                    if valid_trott(a):\n",
    "                        print(a)"
   ]
  },
  {
   "cell_type": "markdown",
   "metadata": {},
   "source": [
    "Here we can see that the first term must be a 3 to continue, 10 works at first but immediately dies out. The second term also is quite interesting as it looks like it must be 29, 329, 3329, and so on.\n",
    "\n",
    "This is already a useful result in that we can generalize and say that we can find a pre trott constant that is equal up to any N. (If we wanted a pre trott that is equal to 20 digits we could just have `[0; 3, 333333333333333329]`.)"
   ]
  },
  {
   "cell_type": "code",
   "execution_count": 43,
   "metadata": {},
   "outputs": [
    {
     "name": "stdout",
     "output_type": "stream",
     "text": [
      "[3, 329]\n",
      "[3, 3329]\n",
      "[3, 33329]\n",
      "[3, 333329]\n",
      "[3, 3333329]\n",
      "[3, 33333329]\n",
      "[3, 333333329]\n",
      "[3, 3333333329]\n",
      "[3, 33333333329]\n",
      "[3, 333333333329]\n",
      "[3, 3333333333329]\n",
      "[3, 33333333333329]\n",
      "[3, 333333333333329]\n",
      "[3, 3333333333333329]\n",
      "[3, 33333333333333329]\n",
      "[3, 333333333333333329]\n",
      "[3, 3333333333333333329]\n"
     ]
    }
   ],
   "source": [
    "prev = 29 \n",
    "for i in range(2,20):\n",
    "    a = [3, prev + (3 * 10 ** i)]\n",
    "    prev = prev + (3 * 10 ** i)\n",
    "    if valid_trott(a):\n",
    "        print(a) # print only the valid approximations"
   ]
  },
  {
   "cell_type": "markdown",
   "metadata": {},
   "source": [
    "The above is just a way to show that the repeating 3s at the beginning are valid pre trotts."
   ]
  },
  {
   "cell_type": "markdown",
   "metadata": {},
   "source": [
    "## Backtracking Solution\n",
    "> backtracking is the best way to do a brute force for all permutations in a general case.\n",
    "\n",
    "Here we will take what we do in each of the for-loops in the code above and call this function recursively. I will set more limiting restrictions on this version as the above code actually does take a bit of time to run just for 3 items of in the range of `[1, 1000000]`."
   ]
  },
  {
   "cell_type": "code",
   "execution_count": 44,
   "metadata": {},
   "outputs": [],
   "source": [
    "def trott_backtracking(current_cf, count, max_items, max_size, file=None):\n",
    "    if count < max_items:\n",
    "        valid = []\n",
    "        for a in range(1, max_size):\n",
    "            new_cf = current_cf + [a]\n",
    "            if valid_trott(new_cf):\n",
    "                valid.append(new_cf)\n",
    "        if valid:\n",
    "            for v in valid:\n",
    "                # These branches are still alive\n",
    "                print(\"VALID: {}\".format(str(v)), file=file)\n",
    "                trott_backtracking(v, count+1, max_items, max_size, file=file)"
   ]
  },
  {
   "cell_type": "code",
   "execution_count": 76,
   "metadata": {},
   "outputs": [],
   "source": [
    "with open(\"output1.txt\", \"w+\") as out:\n",
    "    trott_backtracking([], 0, 1000, 50, out)"
   ]
  },
  {
   "cell_type": "markdown",
   "metadata": {},
   "source": [
    "Since the output was long I moved it to another file but it can be seen in `output1.txt`.\n",
    "\n",
    "Now I just need to run this for much larger possible values."
   ]
  },
  {
   "cell_type": "code",
   "execution_count": null,
   "metadata": {},
   "outputs": [],
   "source": [
    "with open(\"output3.txt\", \"w+\") as out:\n",
    "    trott_backtracking([], 0, 1000, 10000, out)"
   ]
  },
  {
   "cell_type": "markdown",
   "metadata": {},
   "source": [
    "## TODO\n",
    "\n",
    "There are a few improvements I want to add to the code soon. Currently it is only using one process and hence only one of my CPU cores.\n",
    "\n",
    "- [ ] use `multiprocessing` module to parallelize code\n",
    "- [ ] figure out a faster way to check for decimal equality than to convert to a string?"
   ]
  },
  {
   "cell_type": "markdown",
   "metadata": {},
   "source": [
    "That's all for now. -- Pry (Pranoy Dutta)"
   ]
  }
 ],
 "metadata": {
  "kernelspec": {
   "display_name": "venv",
   "language": "python",
   "name": "venv"
  },
  "language_info": {
   "codemirror_mode": {
    "name": "ipython",
    "version": 3
   },
   "file_extension": ".py",
   "mimetype": "text/x-python",
   "name": "python",
   "nbconvert_exporter": "python",
   "pygments_lexer": "ipython3",
   "version": "3.8.3"
  }
 },
 "nbformat": 4,
 "nbformat_minor": 4
}
